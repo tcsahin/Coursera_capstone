{
 "cells": [
  {
   "cell_type": "markdown",
   "metadata": {
    "collapsed": true
   },
   "source": [
    "This is **Timur Sahin**'s Jupyter Notebook, organized on IBM Watson Studio, intended for use to complete the IBM Data Science Professional certification on Coursera! This Notebook will host content for the Capstone project, the final course in the certification series. While I will be updating this document on Github, you can follow it live on my IBM Watson account: [Capstone Project Notebook](https://dataplatform.cloud.ibm.com/analytics/notebooks/v2/96211136-e1b7-4482-b8fb-bb852fc151f3/view?access_token=9ad5a5eb3539784bbaa9fe5b0066be19fee7efdc5b5d62040efd04744684c81a). "
   ]
  },
  {
   "cell_type": "code",
   "execution_count": 1,
   "metadata": {},
   "outputs": [
    {
     "name": "stdout",
     "output_type": "stream",
     "text": [
      "Hello Capstone Project Course!\n"
     ]
    }
   ],
   "source": [
    "import pandas as pd\n",
    "import numpy as np\n",
    "print('Hello Capstone Project Course!')"
   ]
  }
 ],
 "metadata": {
  "kernelspec": {
   "display_name": "Python 3.7",
   "language": "python",
   "name": "python3"
  },
  "language_info": {
   "codemirror_mode": {
    "name": "ipython",
    "version": 3
   },
   "file_extension": ".py",
   "mimetype": "text/x-python",
   "name": "python",
   "nbconvert_exporter": "python",
   "pygments_lexer": "ipython3",
   "version": "3.7.9"
  }
 },
 "nbformat": 4,
 "nbformat_minor": 1
}
